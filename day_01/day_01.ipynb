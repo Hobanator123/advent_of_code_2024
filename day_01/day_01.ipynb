{
 "cells": [
  {
   "cell_type": "markdown",
   "metadata": {},
   "source": [
    "# Part 1"
   ]
  },
  {
   "cell_type": "code",
   "execution_count": null,
   "metadata": {},
   "outputs": [
    {
     "name": "stdout",
     "output_type": "stream",
     "text": [
      "2756096\n"
     ]
    }
   ],
   "source": [
    "# Sort the input into left list and right list\n",
    "with open(\"./day_01_input.txt\") as f:\n",
    "    lines = f.readlines()\n",
    "\n",
    "left_list = []\n",
    "right_list = []\n",
    "\n",
    "for line in lines:\n",
    "    left, right = line.split(\"   \")\n",
    "    right = right.replace(\"\\n\", \"\")\n",
    "\n",
    "    left_list.append(int(left))\n",
    "    right_list.append(int(right))\n",
    "\n",
    "# Order the list and compare differences pairwise\n",
    "left_list.sort()\n",
    "right_list.sort()\n",
    "total_diff = 0\n",
    "for i, v in enumerate(left_list):\n",
    "    total_diff += abs(v - right_list[i])\n",
    "\n",
    "print(total_diff)"
   ]
  },
  {
   "cell_type": "markdown",
   "metadata": {},
   "source": [
    "# Part 2"
   ]
  },
  {
   "cell_type": "code",
   "execution_count": 19,
   "metadata": {},
   "outputs": [
    {
     "name": "stdout",
     "output_type": "stream",
     "text": [
      "23117829\n"
     ]
    }
   ],
   "source": [
    "from collections import Counter\n",
    "\n",
    "right_counter = Counter(right_list)\n",
    "\n",
    "similarity = 0\n",
    "\n",
    "for num in left_list:\n",
    "    similarity += num * right_counter.get(num, 0)\n",
    "\n",
    "print(similarity)"
   ]
  }
 ],
 "metadata": {
  "kernelspec": {
   "display_name": "Python 3",
   "language": "python",
   "name": "python3"
  },
  "language_info": {
   "codemirror_mode": {
    "name": "ipython",
    "version": 3
   },
   "file_extension": ".py",
   "mimetype": "text/x-python",
   "name": "python",
   "nbconvert_exporter": "python",
   "pygments_lexer": "ipython3",
   "version": "3.12.1"
  }
 },
 "nbformat": 4,
 "nbformat_minor": 2
}
