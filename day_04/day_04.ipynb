{
 "cells": [
  {
   "cell_type": "markdown",
   "metadata": {},
   "source": [
    "# Part 1"
   ]
  },
  {
   "cell_type": "code",
   "execution_count": 6,
   "metadata": {},
   "outputs": [],
   "source": [
    "with open(\"./day_04_input.txt\") as f:\n",
    "    lines = f.readlines()"
   ]
  },
  {
   "cell_type": "code",
   "execution_count": 7,
   "metadata": {},
   "outputs": [
    {
     "name": "stdout",
     "output_type": "stream",
     "text": [
      "2532\n"
     ]
    }
   ],
   "source": [
    "valid_letters = \"XMAS\"\n",
    "\n",
    "total_instances = 0\n",
    "\n",
    "for y_index, line in enumerate(lines):\n",
    "    for x_index, letter in enumerate(line):\n",
    "        up = False\n",
    "        down = False\n",
    "        right = False\n",
    "        left = False\n",
    "        if lines[y_index][x_index] == \"X\":\n",
    "            # Check up\n",
    "            letters = \"\"\n",
    "            if y_index > 2:\n",
    "                up = True\n",
    "                for y_diff in range(4):\n",
    "                    letters += lines[y_index - y_diff][x_index]\n",
    "                if letters == valid_letters:\n",
    "                    total_instances += 1\n",
    "\n",
    "            # Check down\n",
    "            letters = \"\"\n",
    "            if y_index <= len(lines) - 4:\n",
    "                down = True\n",
    "                for y_diff in range(4):\n",
    "                    letters += lines[y_index + y_diff][x_index]\n",
    "                if letters == valid_letters:\n",
    "                    total_instances += 1\n",
    "\n",
    "            # Check left\n",
    "            letters = \"\"\n",
    "            if x_index > 2:\n",
    "                left = True\n",
    "                for x_diff in range(4):\n",
    "                    letters += lines[y_index][x_index - x_diff]\n",
    "                if letters == valid_letters:\n",
    "                    total_instances += 1\n",
    "\n",
    "            # Check right\n",
    "            letters = \"\"\n",
    "            if x_index <= len(line) - 4:\n",
    "                right = True\n",
    "                for x_diff in range(4):\n",
    "                    letters += lines[y_index][x_index + x_diff]\n",
    "                if letters == valid_letters:\n",
    "                    total_instances += 1\n",
    "\n",
    "            # Check up-left\n",
    "            letters = \"\"\n",
    "            if up and left:\n",
    "                for diff in range(4):\n",
    "                    letters += lines[y_index - diff][x_index - diff]\n",
    "                if letters == valid_letters:\n",
    "                    total_instances += 1\n",
    "\n",
    "            # Check up-right\n",
    "            letters = \"\"\n",
    "            if up and right:\n",
    "                for diff in range(4):\n",
    "                    letters += lines[y_index - diff][x_index + diff]\n",
    "                if letters == valid_letters:\n",
    "                    total_instances += 1\n",
    "\n",
    "            # Check down-left\n",
    "            letters = \"\"\n",
    "            if down and left:\n",
    "                for diff in range(4):\n",
    "                    letters += lines[y_index + diff][x_index - diff]\n",
    "                if letters == valid_letters:\n",
    "                    total_instances += 1\n",
    "\n",
    "            # Check down-right\n",
    "            letters = \"\"\n",
    "            if down and right:\n",
    "                for diff in range(4):\n",
    "                    letters += lines[y_index + diff][x_index + diff]\n",
    "                if letters == valid_letters:\n",
    "                    total_instances += 1\n",
    "\n",
    "print(total_instances)"
   ]
  },
  {
   "cell_type": "code",
   "execution_count": null,
   "metadata": {},
   "outputs": [],
   "source": []
  }
 ],
 "metadata": {
  "kernelspec": {
   "display_name": "Python 3",
   "language": "python",
   "name": "python3"
  },
  "language_info": {
   "codemirror_mode": {
    "name": "ipython",
    "version": 3
   },
   "file_extension": ".py",
   "mimetype": "text/x-python",
   "name": "python",
   "nbconvert_exporter": "python",
   "pygments_lexer": "ipython3",
   "version": "3.12.1"
  }
 },
 "nbformat": 4,
 "nbformat_minor": 2
}
