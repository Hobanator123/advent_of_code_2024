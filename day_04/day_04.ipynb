{
 "cells": [
  {
   "cell_type": "markdown",
   "metadata": {},
   "source": [
    "# Part 1"
   ]
  },
  {
   "cell_type": "code",
   "execution_count": 1,
   "metadata": {},
   "outputs": [],
   "source": [
    "with open(\"./day_04_input.txt\") as f:\n",
    "    lines = f.readlines()"
   ]
  },
  {
   "cell_type": "code",
   "execution_count": 2,
   "metadata": {},
   "outputs": [
    {
     "name": "stdout",
     "output_type": "stream",
     "text": [
      "2532\n"
     ]
    }
   ],
   "source": [
    "valid_letters = \"XMAS\"\n",
    "\n",
    "total_instances = 0\n",
    "\n",
    "for y_index, line in enumerate(lines):\n",
    "    for x_index, letter in enumerate(line):\n",
    "        up = False\n",
    "        down = False\n",
    "        right = False\n",
    "        left = False\n",
    "        if lines[y_index][x_index] == \"X\":\n",
    "            # Check up\n",
    "            letters = \"\"\n",
    "            if y_index > 2:\n",
    "                up = True\n",
    "                for y_diff in range(4):\n",
    "                    letters += lines[y_index - y_diff][x_index]\n",
    "                if letters == valid_letters:\n",
    "                    total_instances += 1\n",
    "\n",
    "            # Check down\n",
    "            letters = \"\"\n",
    "            if y_index <= len(lines) - 4:\n",
    "                down = True\n",
    "                for y_diff in range(4):\n",
    "                    letters += lines[y_index + y_diff][x_index]\n",
    "                if letters == valid_letters:\n",
    "                    total_instances += 1\n",
    "\n",
    "            # Check left\n",
    "            letters = \"\"\n",
    "            if x_index > 2:\n",
    "                left = True\n",
    "                for x_diff in range(4):\n",
    "                    letters += lines[y_index][x_index - x_diff]\n",
    "                if letters == valid_letters:\n",
    "                    total_instances += 1\n",
    "\n",
    "            # Check right\n",
    "            letters = \"\"\n",
    "            if x_index <= len(line) - 4:\n",
    "                right = True\n",
    "                for x_diff in range(4):\n",
    "                    letters += lines[y_index][x_index + x_diff]\n",
    "                if letters == valid_letters:\n",
    "                    total_instances += 1\n",
    "\n",
    "            # Check up-left\n",
    "            letters = \"\"\n",
    "            if up and left:\n",
    "                for diff in range(4):\n",
    "                    letters += lines[y_index - diff][x_index - diff]\n",
    "                if letters == valid_letters:\n",
    "                    total_instances += 1\n",
    "\n",
    "            # Check up-right\n",
    "            letters = \"\"\n",
    "            if up and right:\n",
    "                for diff in range(4):\n",
    "                    letters += lines[y_index - diff][x_index + diff]\n",
    "                if letters == valid_letters:\n",
    "                    total_instances += 1\n",
    "\n",
    "            # Check down-left\n",
    "            letters = \"\"\n",
    "            if down and left:\n",
    "                for diff in range(4):\n",
    "                    letters += lines[y_index + diff][x_index - diff]\n",
    "                if letters == valid_letters:\n",
    "                    total_instances += 1\n",
    "\n",
    "            # Check down-right\n",
    "            letters = \"\"\n",
    "            if down and right:\n",
    "                for diff in range(4):\n",
    "                    letters += lines[y_index + diff][x_index + diff]\n",
    "                if letters == valid_letters:\n",
    "                    total_instances += 1\n",
    "\n",
    "print(total_instances)"
   ]
  },
  {
   "cell_type": "markdown",
   "metadata": {},
   "source": [
    "# Part 2"
   ]
  },
  {
   "cell_type": "code",
   "execution_count": 3,
   "metadata": {},
   "outputs": [],
   "source": [
    "with open(\"./day_04_input.txt\") as f:\n",
    "    lines = f.readlines()"
   ]
  },
  {
   "cell_type": "code",
   "execution_count": 6,
   "metadata": {},
   "outputs": [
    {
     "name": "stdout",
     "output_type": "stream",
     "text": [
      "1941\n"
     ]
    }
   ],
   "source": [
    "total_instances = 0\n",
    "\n",
    "for y_index, line in enumerate(lines):\n",
    "    for x_index, letter in enumerate(line):\n",
    "        up = False\n",
    "        down = False\n",
    "        right = False\n",
    "        left = False\n",
    "        if lines[y_index][x_index] == \"A\":\n",
    "            # Check if valid position\n",
    "            valid = (0 < y_index < len(lines) - 1) and (0 < x_index < len(line) - 1)\n",
    "\n",
    "            if valid:\n",
    "                top_left_letter = lines[y_index - 1][x_index - 1]\n",
    "                top_right_letter = lines[y_index - 1][x_index + 1]\n",
    "                bottom_left_letter = lines[y_index + 1][x_index - 1]\n",
    "                bottom_right_letter = lines[y_index + 1][x_index + 1]\n",
    "\n",
    "                if top_left_letter in [\"M\", \"S\"] and bottom_right_letter in [\"M\", \"S\"] and top_left_letter != bottom_right_letter:\n",
    "                    if top_right_letter in [\"M\", \"S\"] and bottom_left_letter in [\"M\", \"S\"] and top_right_letter != bottom_left_letter:\n",
    "                        total_instances += 1\n",
    "\n",
    "print(total_instances)"
   ]
  }
 ],
 "metadata": {
  "kernelspec": {
   "display_name": "Python 3",
   "language": "python",
   "name": "python3"
  },
  "language_info": {
   "codemirror_mode": {
    "name": "ipython",
    "version": 3
   },
   "file_extension": ".py",
   "mimetype": "text/x-python",
   "name": "python",
   "nbconvert_exporter": "python",
   "pygments_lexer": "ipython3",
   "version": "3.10.5"
  }
 },
 "nbformat": 4,
 "nbformat_minor": 2
}
