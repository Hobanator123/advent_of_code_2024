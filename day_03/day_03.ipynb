{
 "cells": [
  {
   "cell_type": "markdown",
   "metadata": {},
   "source": [
    "# Part 1"
   ]
  },
  {
   "cell_type": "code",
   "execution_count": null,
   "metadata": {},
   "outputs": [],
   "source": [
    "with open(\"./day_03_input.txt\") as f:\n",
    "    lines = f.readlines()"
   ]
  },
  {
   "cell_type": "code",
   "execution_count": 27,
   "metadata": {},
   "outputs": [
    {
     "name": "stdout",
     "output_type": "stream",
     "text": [
      "174960292\n"
     ]
    },
    {
     "name": "stderr",
     "output_type": "stream",
     "text": [
      "<>:8: SyntaxWarning: invalid escape sequence '\\('\n",
      "<>:8: SyntaxWarning: invalid escape sequence '\\('\n",
      "/tmp/ipykernel_6934/182172198.py:8: SyntaxWarning: invalid escape sequence '\\('\n",
      "  line_mults = re.findall(\"mul\\(\\d+,\\d+\\)\", line)\n"
     ]
    }
   ],
   "source": [
    "import re\n",
    "\n",
    "all_mults = []\n",
    "\n",
    "total = 0\n",
    "\n",
    "for line in lines:\n",
    "    line_mults = re.findall(\"mul\\(\\d+,\\d+\\)\", line)\n",
    "    all_mults += line_mults\n",
    "\n",
    "for mult in all_mults:\n",
    "    num1 = int(mult.split(\",\")[0].split(\"(\")[1])\n",
    "    num2 = int(mult.split(\",\")[1][:-1])\n",
    "    total += num1 * num2\n",
    "\n",
    "print(total)"
   ]
  },
  {
   "cell_type": "markdown",
   "metadata": {},
   "source": [
    "# Part 2"
   ]
  },
  {
   "cell_type": "code",
   "execution_count": 45,
   "metadata": {},
   "outputs": [],
   "source": [
    "with open(\"./day_03_input.txt\") as f:\n",
    "    lines = f.readlines()"
   ]
  },
  {
   "cell_type": "code",
   "execution_count": 46,
   "metadata": {},
   "outputs": [
    {
     "name": "stdout",
     "output_type": "stream",
     "text": [
      "56275602\n"
     ]
    },
    {
     "name": "stderr",
     "output_type": "stream",
     "text": [
      "<>:8: SyntaxWarning: invalid escape sequence '\\('\n",
      "<>:8: SyntaxWarning: invalid escape sequence '\\('\n",
      "/tmp/ipykernel_6934/419438768.py:8: SyntaxWarning: invalid escape sequence '\\('\n",
      "  line_mults = re.findall(\"(mul\\(\\d+,\\d+\\)|don't|do)\", line)\n"
     ]
    }
   ],
   "source": [
    "import re\n",
    "\n",
    "all_mults = []\n",
    "\n",
    "total = 0\n",
    "\n",
    "for line in lines:\n",
    "    line_mults = re.findall(\"(mul\\(\\d+,\\d+\\)|don't|do)\", line)\n",
    "    all_mults += line_mults\n",
    "\n",
    "calculate = True\n",
    "for mult in all_mults:\n",
    "    if mult == \"don\\'t\":\n",
    "        calculate = False\n",
    "    elif mult == \"do\":\n",
    "        calculate = True\n",
    "    else:\n",
    "        if calculate:\n",
    "            num1 = int(mult.split(\",\")[0].split(\"(\")[1])\n",
    "            num2 = int(mult.split(\",\")[1][:-1])\n",
    "            total += num1 * num2\n",
    "\n",
    "print(total)"
   ]
  }
 ],
 "metadata": {
  "kernelspec": {
   "display_name": "Python 3",
   "language": "python",
   "name": "python3"
  },
  "language_info": {
   "codemirror_mode": {
    "name": "ipython",
    "version": 3
   },
   "file_extension": ".py",
   "mimetype": "text/x-python",
   "name": "python",
   "nbconvert_exporter": "python",
   "pygments_lexer": "ipython3",
   "version": "3.12.1"
  }
 },
 "nbformat": 4,
 "nbformat_minor": 2
}
