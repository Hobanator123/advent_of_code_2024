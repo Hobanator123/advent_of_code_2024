{
 "cells": [
  {
   "cell_type": "markdown",
   "metadata": {},
   "source": [
    "# Part 1\n",
    "- All updates only have one number at most one time\n",
    "- All updates have an odd number of pages"
   ]
  },
  {
   "cell_type": "code",
   "execution_count": 54,
   "metadata": {},
   "outputs": [],
   "source": [
    "# These rules have one number as a key and a value with a list of all numbers it needs to be BEFORE\n",
    "rules = {}\n",
    "updates = []\n",
    "\n",
    "with open(\"./day_05_input.txt\") as f:\n",
    "    lines = f.readlines()\n",
    "    parsing_rules = True\n",
    "    for line in lines:\n",
    "        if parsing_rules:\n",
    "            if line == \"\\n\":\n",
    "                parsing_rules = False\n",
    "                continue\n",
    "            num1 = line.split(\"|\")[0]\n",
    "            num2 = line.split(\"|\")[1][:-1]\n",
    "            if num1 not in rules.keys():\n",
    "                rules[num1] = [num2]\n",
    "            else:\n",
    "                rules[num1].append(num2)\n",
    "        else:\n",
    "            updates.append(line.split(\"\\n\")[0].split(\",\"))"
   ]
  },
  {
   "cell_type": "code",
   "execution_count": 55,
   "metadata": {},
   "outputs": [],
   "source": [
    "def get_middle_page(page):\n",
    "    return page[int(len(page) / 2)]"
   ]
  },
  {
   "cell_type": "code",
   "execution_count": 56,
   "metadata": {},
   "outputs": [],
   "source": [
    "def validate_page(page, update, rules):\n",
    "    page_rule = rules.get(page, None)\n",
    "    if not page_rule:\n",
    "        return True\n",
    "    for rule in page_rule:\n",
    "        try:\n",
    "            if update.index(rule) < update.index(page):\n",
    "                return False\n",
    "        except ValueError:\n",
    "            continue\n",
    "    return True"
   ]
  },
  {
   "cell_type": "code",
   "execution_count": 57,
   "metadata": {},
   "outputs": [
    {
     "name": "stdout",
     "output_type": "stream",
     "text": [
      "5248\n"
     ]
    }
   ],
   "source": [
    "total_sum = 0\n",
    "invalid_updates = []\n",
    "for index, update in enumerate(updates):\n",
    "    valid_update = True\n",
    "    for page in update:\n",
    "        valid = validate_page(page, update, rules)\n",
    "        if not valid:\n",
    "            valid_update = False\n",
    "            break\n",
    "    \n",
    "    if valid_update:\n",
    "        # print(update)\n",
    "        total_sum += int(get_middle_page(update))\n",
    "    else:\n",
    "        invalid_updates.append(update)\n",
    "\n",
    "print(total_sum)"
   ]
  },
  {
   "cell_type": "markdown",
   "metadata": {},
   "source": [
    "# Part 2"
   ]
  },
  {
   "cell_type": "code",
   "execution_count": 58,
   "metadata": {},
   "outputs": [],
   "source": [
    "# These rules have one number as a key and a value with a list of all numbers it needs to be AFTER\n",
    "rules = {}\n",
    "updates = []\n",
    "\n",
    "with open(\"./day_05_input.txt\") as f:\n",
    "    lines = f.readlines()\n",
    "    parsing_rules = True\n",
    "    for line in lines:\n",
    "        if parsing_rules:\n",
    "            if line == \"\\n\":\n",
    "                parsing_rules = False\n",
    "                continue\n",
    "            num1 = line.split(\"|\")[0]\n",
    "            num2 = line.split(\"|\")[1][:-1]\n",
    "            if num2 not in rules.keys():\n",
    "                rules[num2] = [num1]\n",
    "            else:\n",
    "                rules[num2].append(num1)\n",
    "        else:\n",
    "            updates.append(line.split(\"\\n\")[0].split(\",\"))"
   ]
  },
  {
   "cell_type": "code",
   "execution_count": 59,
   "metadata": {},
   "outputs": [],
   "source": [
    "def get_relevant_rules(update, rules):\n",
    "    relevant_rules = {}\n",
    "    for page in update:\n",
    "        relevant_page_rules = [rule for rule in rules.get(page, []) if rule in update]\n",
    "        relevant_rules[page] = relevant_page_rules\n",
    "    return relevant_rules\n",
    "\n",
    "\n",
    "def reorder_update(update, rules):\n",
    "    relevant_rules = get_relevant_rules(update, rules)\n",
    "    reordered_rules_sorted_by_length_of_relevant_rules = dict(sorted(relevant_rules.items(), key=lambda item: len(item[1])))\n",
    "    return list(reordered_rules_sorted_by_length_of_relevant_rules.keys())"
   ]
  },
  {
   "cell_type": "code",
   "execution_count": 60,
   "metadata": {},
   "outputs": [
    {
     "name": "stdout",
     "output_type": "stream",
     "text": [
      "4507\n"
     ]
    }
   ],
   "source": [
    "total_sum = 0\n",
    "for index, update in enumerate(invalid_updates):\n",
    "    new_update = reorder_update(update, rules)\n",
    "\n",
    "    total_sum += int(get_middle_page(new_update))\n",
    "\n",
    "print(total_sum)"
   ]
  }
 ],
 "metadata": {
  "kernelspec": {
   "display_name": "Python 3",
   "language": "python",
   "name": "python3"
  },
  "language_info": {
   "codemirror_mode": {
    "name": "ipython",
    "version": 3
   },
   "file_extension": ".py",
   "mimetype": "text/x-python",
   "name": "python",
   "nbconvert_exporter": "python",
   "pygments_lexer": "ipython3",
   "version": "3.10.5"
  }
 },
 "nbformat": 4,
 "nbformat_minor": 2
}
