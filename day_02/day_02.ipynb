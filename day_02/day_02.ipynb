{
 "cells": [
  {
   "cell_type": "markdown",
   "metadata": {},
   "source": [
    "# Part 1\n",
    "\n",
    "Rules:\n",
    "- must be entirely increaseing or decreasing\n",
    "- needs to be a difference between 1 and 3 inclusive"
   ]
  },
  {
   "cell_type": "code",
   "execution_count": 1,
   "metadata": {},
   "outputs": [],
   "source": [
    "with open(\"./day_02_input.txt\") as f:\n",
    "    lines = f.readlines()\n",
    "\n",
    "reports = []\n",
    "for line in lines:\n",
    "    reports.append([int(i.replace(\"\\n\", \"\")) for i in line.split(\" \")])"
   ]
  },
  {
   "cell_type": "code",
   "execution_count": 5,
   "metadata": {},
   "outputs": [
    {
     "name": "stdout",
     "output_type": "stream",
     "text": [
      "287\n"
     ]
    }
   ],
   "source": [
    "safe_reports = 0\n",
    "for report in reports:\n",
    "    safe = True\n",
    "    \n",
    "    if report[1] > report[0]:\n",
    "        reverse = False\n",
    "    else:\n",
    "        reverse = True\n",
    "    unsorted_report = report\n",
    "    sorted_report = sorted(report, reverse=reverse)\n",
    "\n",
    "    # Check if it is unsafe\n",
    "    if unsorted_report != sorted_report:\n",
    "        # print(\"Different!\")\n",
    "        continue\n",
    "\n",
    "    for i in range(1, len(unsorted_report)):\n",
    "        diff = abs(unsorted_report[i] - unsorted_report[i-1])\n",
    "        if not (1 <= diff <= 3) and safe:\n",
    "            safe = False\n",
    "\n",
    "\n",
    "    if safe:\n",
    "        safe_reports += 1\n",
    "\n",
    "\n",
    "print(safe_reports)\n",
    "\n"
   ]
  },
  {
   "cell_type": "markdown",
   "metadata": {},
   "source": [
    "# Part 2"
   ]
  },
  {
   "cell_type": "code",
   "execution_count": 64,
   "metadata": {},
   "outputs": [],
   "source": [
    "with open(\"./day_02_input.txt\") as f:\n",
    "    lines = f.readlines()\n",
    "\n",
    "reports = []\n",
    "for line in lines:\n",
    "    reports.append([int(i.replace(\"\\n\", \"\")) for i in line.split(\" \")])"
   ]
  },
  {
   "cell_type": "code",
   "execution_count": 63,
   "metadata": {},
   "outputs": [
    {
     "data": {
      "text/plain": [
       "False"
      ]
     },
     "execution_count": 63,
     "metadata": {},
     "output_type": "execute_result"
    }
   ],
   "source": [
    "test_report = [9,15,4,7,5,2]\n",
    "\n",
    "report_is_constrained(test_report)"
   ]
  },
  {
   "cell_type": "code",
   "execution_count": 65,
   "metadata": {},
   "outputs": [
    {
     "name": "stdout",
     "output_type": "stream",
     "text": [
      "354\n"
     ]
    }
   ],
   "source": [
    "def report_is_constant(report):\n",
    "    reverse = None\n",
    "    for i in range(1, len(report)):\n",
    "        if report[i] - report[i - 1] == 0:\n",
    "            return False\n",
    "        elif report[i] - report[i - 1] > 0:\n",
    "            if reverse not in [None, False]:\n",
    "                return False\n",
    "            reverse = False\n",
    "        else:\n",
    "            if reverse not in [None, True]:\n",
    "                return False\n",
    "            reverse = True\n",
    "\n",
    "    return True\n",
    "\n",
    "\n",
    "def report_is_constrained(report):\n",
    "    for i in range(1,len(report)):\n",
    "        diff = report[i] - report[i - 1]\n",
    "        if 1 <= abs(diff) <=3:\n",
    "            continue\n",
    "        else:\n",
    "            return False\n",
    "    return True\n",
    "\n",
    "\n",
    "def report_is_valid(report):\n",
    "    constant = report_is_constant(report)\n",
    "    constrained = report_is_constrained(report)\n",
    "    if constant and constrained:\n",
    "        return True\n",
    "    \n",
    "    return False\n",
    "\n",
    "\n",
    "safe_reports = 0\n",
    "\n",
    "for report in reports:\n",
    "    if report_is_valid(report):\n",
    "        safe_reports += 1\n",
    "    else:\n",
    "        for i in range(0,len(report)):\n",
    "            orig_report = report.copy()\n",
    "            del report[i]\n",
    "            if report_is_valid(report):\n",
    "                safe_reports += 1\n",
    "                break\n",
    "            report = orig_report\n",
    "\n",
    "print(safe_reports)"
   ]
  }
 ],
 "metadata": {
  "kernelspec": {
   "display_name": "Python 3",
   "language": "python",
   "name": "python3"
  },
  "language_info": {
   "codemirror_mode": {
    "name": "ipython",
    "version": 3
   },
   "file_extension": ".py",
   "mimetype": "text/x-python",
   "name": "python",
   "nbconvert_exporter": "python",
   "pygments_lexer": "ipython3",
   "version": "3.12.1"
  }
 },
 "nbformat": 4,
 "nbformat_minor": 2
}
